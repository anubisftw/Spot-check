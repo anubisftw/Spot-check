{
  "nbformat": 4,
  "nbformat_minor": 0,
  "metadata": {
    "colab": {
      "provenance": [],
      "private_outputs": true,
      "machine_shape": "hm",
      "mount_file_id": "1LhHylBeYPOqdaDAmDuuqJHewKOGbi1hi",
      "authorship_tag": "ABX9TyPBM6MORN1cF0gJUBH71Ess",
      "include_colab_link": true
    },
    "kernelspec": {
      "name": "python3",
      "display_name": "Python 3"
    },
    "language_info": {
      "name": "python"
    },
    "accelerator": "GPU",
    "gpuClass": "premium"
  },
  "cells": [
    {
      "cell_type": "markdown",
      "metadata": {
        "id": "view-in-github",
        "colab_type": "text"
      },
      "source": [
        "<a href=\"https://colab.research.google.com/github/anubisftw/Spot-check/blob/main/Copy_of_Melanoma_MobileNet.ipynb\" target=\"_parent\"><img src=\"https://colab.research.google.com/assets/colab-badge.svg\" alt=\"Open In Colab\"/></a>"
      ]
    },
    {
      "cell_type": "code",
      "execution_count": null,
      "metadata": {
        "id": "u5KKjIb9t9Kj"
      },
      "outputs": [],
      "source": [
        "!pip install keras-tuner\n",
        "!pip install opendatasets\n"
      ]
    },
    {
      "cell_type": "code",
      "source": [
        "import opendatasets as od\n",
        "import pandas\n",
        "import tensorflow as tf\n",
        "import numpy as np\n",
        "from tensorflow.keras import regularizers\n",
        "import random\n",
        "from tensorflow.keras.optimizers import Adam\n",
        "from tensorflow.keras.losses import CategoricalCrossentropy\n",
        "from keras.callbacks import EarlyStopping\n",
        "from keras.utils import np_utils\n",
        "from tensorflow.keras.layers import Dense, Conv2D, Activation, Dropout, GlobalAveragePooling2D\n",
        "from tensorflow.keras.layers import RandomFlip, RandomRotation, Resizing\n",
        "from tensorflow.keras.models import Sequential\n",
        "import tensorflow.keras.applications.mobilenet\n",
        "import os"
      ],
      "metadata": {
        "id": "7GotOqftt_sX"
      },
      "execution_count": null,
      "outputs": []
    },
    {
      "cell_type": "markdown",
      "source": [
        "TF Data for train/val/test datasets"
      ],
      "metadata": {
        "id": "rTWa2waDdg2H"
      }
    },
    {
      "cell_type": "code",
      "source": [
        "train_ds = tf.keras.preprocessing.image_dataset_from_directory(\n",
        "    '/content/drive/MyDrive/Colab Notebooks/labeled_images/train',\n",
        "    labels='inferred',\n",
        "    label_mode='categorical',\n",
        "    image_size=(256,256),\n",
        "    batch_size=32,\n",
        "    shuffle=True,\n",
        "    seed=42\n",
        ")\n",
        "# Create the validation dataset\n",
        "validation_ds = tf.keras.preprocessing.image_dataset_from_directory(\n",
        "    '/content/drive/MyDrive/Colab Notebooks/labeled_images/validation',\n",
        "    labels='inferred',\n",
        "    label_mode='categorical',\n",
        "    image_size=(256,256),\n",
        "    batch_size=32,\n",
        "    shuffle=True,\n",
        "    seed=42\n",
        ")"
      ],
      "metadata": {
        "id": "FJphNlpsH_Cg"
      },
      "execution_count": null,
      "outputs": []
    },
    {
      "cell_type": "markdown",
      "source": [
        "Preparing data augmentation and Mobilenetv2 preprocessor (scaling/resizing)"
      ],
      "metadata": {
        "id": "aCVWod06SaR8"
      }
    },
    {
      "cell_type": "code",
      "source": [
        "IMG_SIZE = 256\n",
        "\n",
        "# create data augmentation sequence\n",
        "data_augmentating = tf.keras.Sequential([\n",
        "    Resizing(224, 224, interpolation='bilinear', crop_to_aspect_ratio=False),\n",
        "    RandomFlip('horizontal_and_vertical'),\n",
        "    RandomRotation(0.3),\n",
        "])\n",
        "\n",
        "# mobilenetv2 preprocessor\n",
        "mobilnet_preprocessor = tf.keras.applications.mobilenet_v2.preprocess_input\n",
        "\n",
        "# define base model\n",
        "base_model = tf.keras.applications.MobileNetV2(input_shape= (224,224,3), include_top=False, weights='imagenet')\n",
        "x = Dropout(0.5)(x)\n",
        "prediction_layer = Dense(8, activation = 'softmax')\n",
        "global_average_layer = GlobalAveragePooling2D()"
      ],
      "metadata": {
        "id": "m4TcY57PJEom"
      },
      "execution_count": null,
      "outputs": []
    },
    {
      "cell_type": "code",
      "source": [
        "inputs = tf.keras.Input(shape=(IMG_SIZE, IMG_SIZE, 3))\n",
        "x = data_augmentating(inputs)\n",
        "x = mobilnet_preprocessor(x)\n",
        "x = base_model(x, training=False)\n",
        "x = Conv2D(8, 1, padding = 'same', activation = 'relu')(x)\n",
        "x = global_average_layer(x)\n",
        "outputs = prediction_layer(x)\n",
        "model = tf.keras.Model(inputs, outputs)"
      ],
      "metadata": {
        "id": "Opyx6m_wXCaQ"
      },
      "execution_count": null,
      "outputs": []
    },
    {
      "cell_type": "code",
      "source": [
        "model.summary()"
      ],
      "metadata": {
        "id": "mxuoVEH0iqqJ"
      },
      "execution_count": null,
      "outputs": []
    },
    {
      "cell_type": "code",
      "source": [
        "model.compile(\n",
        "    optimizer=Adam(learning_rate=0.0001),         # lr = learning_rate\n",
        "    loss='categorical_crossentropy',   # Multi-class classification\n",
        "    metrics=['accuracy']  \n",
        "\n",
        "\n",
        "    \n",
        ")\n",
        "\n"
      ],
      "metadata": {
        "id": "noOuPRQmYGFt"
      },
      "execution_count": null,
      "outputs": []
    },
    {
      "cell_type": "code",
      "source": [
        "history = model.fit(train_ds, epochs=128, validation_data=validation_ds)\n",
        "\n"
      ],
      "metadata": {
        "id": "_w1DC4NSYWp3"
      },
      "execution_count": null,
      "outputs": []
    },
    {
      "cell_type": "code",
      "source": [
        "acc = history.history['accuracy']\n",
        "val_acc = history.history['val_accuracy']\n",
        "loss = history.history['loss']\n",
        "val_loss = history.history['val_loss']\n",
        "\n",
        "epochs_range = range(128)\n",
        "\n",
        "plt.figure(figsize=(8, 8))\n",
        "plt.subplot(2, 1, 1)\n",
        "plt.plot(epochs_range, acc, label='Training Accuracy')\n",
        "plt.plot(epochs_range, val_acc, label='Validation Accuracy')\n",
        "plt.legend(loc='lower right')\n",
        "plt.title('Training and Validation Accuracy')\n",
        "\n",
        "plt.subplot(2, 1, 2)\n",
        "plt.plot(epochs_range, loss, label='Training Loss')\n",
        "plt.plot(epochs_range, val_loss, label='Validation Loss')\n",
        "plt.legend(loc='upper right')\n",
        "plt.title('Training and Validation Loss')\n",
        "plt.xlabel('Epoch')\n",
        "plt.ylabel('Accuracy/Loss')\n",
        "plt.show()"
      ],
      "metadata": {
        "id": "ptDGcyVh7m5d"
      },
      "execution_count": null,
      "outputs": []
    },
    {
      "cell_type": "code",
      "source": [
        "from tensorflow.keras.losses import SparseCategoricalCrossentropy\n",
        "from tensorflow.keras.losses import CategoricalCrossentropy\n"
      ],
      "metadata": {
        "id": "PvntqgR_JHQV"
      },
      "execution_count": null,
      "outputs": []
    },
    {
      "cell_type": "code",
      "source": [
        "from tensorflow.keras.models import Sequential\n",
        "from tensorflow.keras.layers import Dropout\n",
        "from tensorflow.keras.models import Sequential\n",
        "from tensorflow.keras.layers import Convolution2D\n",
        "from tensorflow.keras.layers import Activation\n",
        "from tensorflow.keras.layers import GlobalAveragePooling2D\n",
        "from tensorflow.keras.layers import Dense"
      ],
      "metadata": {
        "id": "J3Kdo1-IJKaZ"
      },
      "execution_count": null,
      "outputs": []
    },
    {
      "cell_type": "code",
      "source": [],
      "metadata": {
        "id": "R7HryLWPP2Uo"
      },
      "execution_count": null,
      "outputs": []
    },
    {
      "cell_type": "code",
      "source": [
        "tf.keras.applications.mobilenet_v2.preprocess_input"
      ],
      "metadata": {
        "id": "O9USvqSGRbyT"
      },
      "execution_count": null,
      "outputs": []
    },
    {
      "cell_type": "code",
      "source": [
        "## model2\n",
        "\n",
        "\n",
        "model2 = Sequential([\n",
        "        resize_rescale,\n",
        "        data_augmentating,\n",
        "        tf.keras.applications.mobilenet.MobileNet(input_shape=(256,256, 3), include_top=False),\n",
        "        \n",
        "        Dropout(0.6),\n",
        "        Convolution2D(8, (1, 1), padding='valid'),\n",
        "        Activation('relu'),        # Rectified Linear Unit - Activation Function\n",
        "        GlobalAveragePooling2D(),  # Pooling Layer\n",
        "        Activation('softmax')      # Softmax - Activation Function - For Multi Class Classification\n",
        "    ])"
      ],
      "metadata": {
        "id": "6yYzJDKTJXyW"
      },
      "execution_count": null,
      "outputs": []
    },
    {
      "cell_type": "code",
      "source": [
        "model2.compile(\n",
        "    optimizer=Adam(learning_rate=0.00001),         # lr = learning_rate\n",
        "    loss='categorical_crossentropy',   # Multi-class classification\n",
        "    metrics=['accuracy']  \n",
        ")"
      ],
      "metadata": {
        "id": "CxWo5tCIJenV"
      },
      "execution_count": null,
      "outputs": []
    },
    {
      "cell_type": "code",
      "source": [
        "history = model2.fit(train_ds, epochs=60, validation_data=validation_ds)"
      ],
      "metadata": {
        "id": "pZgVRtE6Jjde"
      },
      "execution_count": null,
      "outputs": []
    },
    {
      "cell_type": "code",
      "source": [
        "import matplotlib.pyplot as plt\n",
        "\n",
        "\n",
        "\n",
        "acc = history.history['accuracy']\n",
        "val_acc = history.history['val_accuracy']\n",
        "loss = history.history['loss']\n",
        "val_loss = history.history['val_loss']\n",
        "\n",
        "epochs_range = range(100)\n",
        "\n",
        "plt.figure(figsize=(8, 8))\n",
        "plt.subplot(2, 1, 1)\n",
        "plt.plot(epochs_range, acc, label='Training Accuracy')\n",
        "plt.plot(epochs_range, val_acc, label='Validation Accuracy')\n",
        "plt.legend(loc='lower right')\n",
        "plt.title('Training and Validation Accuracy')\n",
        "\n",
        "plt.subplot(2, 1, 2)\n",
        "plt.plot(epochs_range, loss, label='Training Loss')\n",
        "plt.plot(epochs_range, val_loss, label='Validation Loss')\n",
        "plt.legend(loc='upper right')\n",
        "plt.title('Training and Validation Loss')\n",
        "plt.xlabel('Epoch')\n",
        "plt.ylabel('Accuracy/Loss')\n",
        "plt.show()"
      ],
      "metadata": {
        "id": "x2Hr5vs0JoPY"
      },
      "execution_count": null,
      "outputs": []
    },
    {
      "cell_type": "code",
      "source": [],
      "metadata": {
        "id": "kmIQuH3d-fQk"
      },
      "execution_count": null,
      "outputs": []
    }
  ]
}